{
  "cells": [
    {
      "cell_type": "code",
      "source": [
        "#!/usr/bin/env python\n",
        "# -*- coding=utf-8 -*-\n",
        "\n",
        "import joblib\n",
        "import numpy as np\n",
        "import sys\n",
        "sys.path.insert(0, '/content/drive/MyDrive/ISE_Final')\n",
        "\n",
        "from data_generator import data_generator\n",
        "from model import ImgCapModel\n",
        "from word_embeddings import GloveVec\n",
        "\n",
        "import os\n",
        "\n",
        "def max_length(captions):\n",
        "    lines = []\n",
        "    for k in captions.keys():\n",
        "        for cap in captions[k]:\n",
        "            lines.append(cap)\n",
        "    return max([len(d.split()) for d in lines])\n",
        "\n",
        "def get_train_captions(path):\n",
        "    with open(path, 'rb') as f:\n",
        "        train_captions = joblib.load(f)\n",
        "    return train_captions\n",
        "\n",
        "dataset_root = '/content/drive/MyDrive/ISE_Final/flickr8k'  # specify your dataset_root path\n",
        "\n",
        "# Load data\n",
        "vocab = np.loadtxt(os.path.join(dataset_root, 'vocabulary.txt'), dtype=str)\n",
        "\n",
        "train_captions = get_train_captions(os.path.join(dataset_root, 'train_captions.pkl'))\n",
        "max_length = max_length(train_captions)\n",
        "print('max_length:', max_length)\n",
        "\n",
        "with open(os.path.join(dataset_root, 'train_image_feats.pkl'), 'rb') as f:\n",
        "    img_feats = joblib.load(f)\n",
        "\n",
        "# Model definition\n",
        "img_cap_model = ImgCapModel(vocab_size=len(vocab)+1, max_length=max_length)\n",
        "\n",
        "# Use Glove as embedding layer\n",
        "glove_vec = GloveVec(vocab)\n",
        "img_cap_model.model.layers[2].set_weights([glove_vec.embed_mat])\n",
        "img_cap_model.model.layers[2].trainable = False\n",
        "\n",
        "# Compile\n",
        "img_cap_model.model.compile(loss='categorical_crossentropy', optimizer='adam')\n",
        "\n",
        "# Training\n",
        "num_epochs = 30\n",
        "batch_size = 3\n",
        "steps = len(train_captions) // batch_size\n",
        "for i in range(num_epochs):\n",
        "    generator = data_generator(train_captions, img_feats, glove_vec.word2idx, max_length, batch_size, img_cap_model.vocab_size)\n",
        "    img_cap_model.model.fit_generator(generator, epochs=1, steps_per_epoch=steps, verbose=True)\n",
        "    img_cap_model.model.save('model_weights/model_' + str(i) + '.h5')\n"
      ],
      "metadata": {
        "colab": {
          "base_uri": "https://localhost:8080/",
          "height": 0
        },
        "id": "guFKrLCgBIK1",
        "outputId": "c283474a-96dd-4efb-eeb6-7b5bae874ee7"
      },
      "id": "guFKrLCgBIK1",
      "execution_count": 1,
      "outputs": [
        {
          "output_type": "stream",
          "name": "stdout",
          "text": [
            "max_length: 34\n"
          ]
        },
        {
          "output_type": "stream",
          "name": "stderr",
          "text": [
            "<ipython-input-1-17a21f1c728f>:56: UserWarning: `Model.fit_generator` is deprecated and will be removed in a future version. Please use `Model.fit`, which supports generators.\n",
            "  img_cap_model.model.fit_generator(generator, epochs=1, steps_per_epoch=steps, verbose=True)\n"
          ]
        },
        {
          "output_type": "stream",
          "name": "stdout",
          "text": [
            "2000/2000 [==============================] - 144s 68ms/step - loss: 4.1270\n",
            "2000/2000 [==============================] - 135s 67ms/step - loss: 3.4215\n",
            "2000/2000 [==============================] - 135s 67ms/step - loss: 3.2038\n",
            "2000/2000 [==============================] - 135s 67ms/step - loss: 3.0702\n",
            "2000/2000 [==============================] - 135s 68ms/step - loss: 2.9743\n",
            "2000/2000 [==============================] - 135s 68ms/step - loss: 2.9017\n",
            "2000/2000 [==============================] - 135s 68ms/step - loss: 2.8413\n",
            "2000/2000 [==============================] - 136s 68ms/step - loss: 2.7940\n",
            "2000/2000 [==============================] - 136s 68ms/step - loss: 2.7528\n",
            "2000/2000 [==============================] - 135s 68ms/step - loss: 2.7168\n",
            "2000/2000 [==============================] - 135s 67ms/step - loss: 2.6873\n",
            "2000/2000 [==============================] - 134s 67ms/step - loss: 2.6609\n",
            "2000/2000 [==============================] - 135s 67ms/step - loss: 2.6366\n",
            "2000/2000 [==============================] - 135s 67ms/step - loss: 2.6170\n",
            "2000/2000 [==============================] - 135s 67ms/step - loss: 2.5990\n",
            "2000/2000 [==============================] - 134s 67ms/step - loss: 2.5791\n",
            "2000/2000 [==============================] - 134s 67ms/step - loss: 2.5641\n",
            "2000/2000 [==============================] - 134s 67ms/step - loss: 2.5478\n",
            "2000/2000 [==============================] - 135s 67ms/step - loss: 2.5357\n",
            "2000/2000 [==============================] - 135s 68ms/step - loss: 2.5238\n",
            "2000/2000 [==============================] - 135s 67ms/step - loss: 2.5117\n",
            "2000/2000 [==============================] - 134s 67ms/step - loss: 2.5056\n",
            "2000/2000 [==============================] - 135s 67ms/step - loss: 2.4936\n",
            "2000/2000 [==============================] - 135s 67ms/step - loss: 2.4866\n",
            "2000/2000 [==============================] - 135s 67ms/step - loss: 2.4765\n",
            "2000/2000 [==============================] - 135s 68ms/step - loss: 2.4691\n",
            "2000/2000 [==============================] - 135s 67ms/step - loss: 2.4593\n",
            "2000/2000 [==============================] - 135s 68ms/step - loss: 2.4532\n",
            "2000/2000 [==============================] - 135s 67ms/step - loss: 2.4454\n",
            "2000/2000 [==============================] - 135s 67ms/step - loss: 2.4430\n"
          ]
        }
      ]
    },
    {
      "cell_type": "code",
      "source": [
        "from google.colab import drive\n",
        "drive.mount('/content/drive')"
      ],
      "metadata": {
        "colab": {
          "base_uri": "https://localhost:8080/",
          "height": 0
        },
        "id": "hPcuyB_N-GQ0",
        "outputId": "6c580118-5f0f-46f6-ea46-9d773b1a1386"
      },
      "id": "hPcuyB_N-GQ0",
      "execution_count": 2,
      "outputs": [
        {
          "output_type": "stream",
          "name": "stdout",
          "text": [
            "Mounted at /content/drive\n"
          ]
        }
      ]
    }
  ],
  "metadata": {
    "kernelspec": {
      "display_name": "Python 3 (ipykernel)",
      "language": "python",
      "name": "python3"
    },
    "language_info": {
      "codemirror_mode": {
        "name": "ipython",
        "version": 3
      },
      "file_extension": ".py",
      "mimetype": "text/x-python",
      "name": "python",
      "nbconvert_exporter": "python",
      "pygments_lexer": "ipython3",
      "version": "3.9.7"
    },
    "colab": {
      "provenance": [],
      "machine_shape": "hm",
      "gpuType": "A100"
    },
    "accelerator": "GPU",
    "gpuClass": "standard"
  },
  "nbformat": 4,
  "nbformat_minor": 5
}