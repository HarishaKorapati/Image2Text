{
  "cells": [
    {
      "cell_type": "code",
      "source": [
        "from google.colab import drive\n",
        "drive.mount('/content/drive')"
      ],
      "metadata": {
        "colab": {
          "base_uri": "https://localhost:8080/"
        },
        "id": "Qk0eX6EVabog",
        "outputId": "6d0f0867-57b6-4ce6-a544-16e3da80abef"
      },
      "id": "Qk0eX6EVabog",
      "execution_count": 2,
      "outputs": [
        {
          "output_type": "stream",
          "name": "stdout",
          "text": [
            "Mounted at /content/drive\n"
          ]
        }
      ]
    },
    {
      "cell_type": "code",
      "execution_count": 5,
      "id": "8d1a5013",
      "metadata": {
        "colab": {
          "base_uri": "https://localhost:8080/"
        },
        "id": "8d1a5013",
        "outputId": "4f7aefbd-6e5b-4e6e-f6c9-c3b6d23efa0e"
      },
      "outputs": [
        {
          "output_type": "stream",
          "name": "stdout",
          "text": [
            "Num. of data: 8092\n"
          ]
        }
      ],
      "source": [
        "import string\n",
        "import joblib\n",
        "\n",
        "def clean_captions(captions):\n",
        "    table = str.maketrans('', '', string.punctuation)\n",
        "    for _, cap_list in captions.items():\n",
        "        for i in range(len(cap_list)):\n",
        "            cap = cap_list[i]\n",
        "            # tokenize\n",
        "            cap = cap.split()\n",
        "            # convert to lower case\n",
        "            cap = [w.lower() for w in cap]\n",
        "            # remove punctuation\n",
        "            cap = [w.translate(table) for w in cap]\n",
        "            # remove tokens with numbers in them\n",
        "            cap = [w for w in cap if w.isalpha()]\n",
        "            # remove hanging 's' and 'a'\n",
        "            cap = [w for w in cap if len(w) > 1]\n",
        "            # store as string\n",
        "            cap_list[i] = ' '.join(cap)\n",
        "    return captions\n",
        "\n",
        "if __name__ == \"__main__\":\n",
        "    captions = {}\n",
        "    with open('/content/drive/MyDrive/ISE_Final/flickr8k/Flickr8k_text/Flickr8k.token.txt', 'r') as f:\n",
        "        for line in f:\n",
        "            line = line.strip()\n",
        "            elems = line.split('\\t')\n",
        "            fn = elems[0][:-2]\n",
        "            if fn in captions:\n",
        "                captions[fn].append(elems[1])\n",
        "            else:\n",
        "                captions[fn] = [elems[1]]\n",
        "    print('Num. of data:', len(captions))\n",
        "\n",
        "    # Clean captions\n",
        "    cleaned_captions = clean_captions(captions)\n",
        "\n",
        "    # Save captions\n",
        "    with open('/content/drive/MyDrive/ISE_Final/flickr8k/cleaned_captions.pkl', 'wb') as f:\n",
        "        joblib.dump(cleaned_captions, f, compress=3)"
      ]
    }
  ],
  "metadata": {
    "kernelspec": {
      "display_name": "Python 3 (ipykernel)",
      "language": "python",
      "name": "python3"
    },
    "language_info": {
      "codemirror_mode": {
        "name": "ipython",
        "version": 3
      },
      "file_extension": ".py",
      "mimetype": "text/x-python",
      "name": "python",
      "nbconvert_exporter": "python",
      "pygments_lexer": "ipython3",
      "version": "3.9.7"
    },
    "colab": {
      "provenance": []
    }
  },
  "nbformat": 4,
  "nbformat_minor": 5
}