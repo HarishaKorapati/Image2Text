{
 "cells": [
  {
   "cell_type": "code",
   "execution_count": 1,
   "id": "942eeab0",
   "metadata": {},
   "outputs": [
    {
     "name": "stdout",
     "output_type": "stream",
     "text": [
      "Vocabulary size: 1651\n"
     ]
    }
   ],
   "source": [
    "#!/usr/bin/env python\n",
    "# -*- coding=utf-8 -*-\n",
    "\n",
    "import joblib\n",
    "\n",
    "SOS_TOKEN = 'zsosz'\n",
    "EOS_TOKEN = 'zeosz'\n",
    "\n",
    "TH_WORD_COUNT = 10\n",
    "\n",
    "def to_vocabulary(words):\n",
    "    vocab = set()\n",
    "    [vocab.add(word) for word in words]\n",
    "    return vocab\n",
    "\n",
    "def add_sos_eos(captions):\n",
    "    for k in captions.keys():\n",
    "        captions[k] = list(map(lambda x: SOS_TOKEN + ' ' + x + ' ' + EOS_TOKEN, captions[k]))\n",
    "    return captions\n",
    "\n",
    "def filter_by_count(captions):\n",
    "    word_counts = {}\n",
    "    for k in captions.keys():\n",
    "        for v in captions[k]:\n",
    "            for w in v.split(' '):\n",
    "                word_counts[w] = word_counts.get(w, 0) + 1\n",
    "    return [w for w in word_counts if word_counts[w] >= TH_WORD_COUNT]\n",
    "\n",
    "if __name__ == \"__main__\":\n",
    "    with open('flickr8k/cleaned_captions.pkl', 'rb') as f:\n",
    "        cleaned_captions = joblib.load(f)\n",
    "\n",
    "    # Add start and end token\n",
    "    cleaned_captions = add_sos_eos(cleaned_captions)\n",
    "\n",
    "    train_images = []\n",
    "    with open('flickr8k/Flickr8k_text/Flickr_8k.trainImages.txt', 'r') as f:\n",
    "        for line in f:\n",
    "            train_images.append(line.strip())\n",
    "\n",
    "    train_captions = {}\n",
    "    for train_image in train_images:\n",
    "        if train_image in cleaned_captions:\n",
    "            train_captions[train_image] = cleaned_captions[train_image]\n",
    "\n",
    "    # Save train captions\n",
    "    with open('flickr8k/train_captions.pkl', 'wb') as f:\n",
    "        joblib.dump(train_captions, f, compress=3)\n",
    "\n",
    "    # Save vocabulary\n",
    "    train_words = filter_by_count(train_captions)\n",
    "    vocabulary = to_vocabulary(train_words)\n",
    "    with open('flickr8k/vocabulary.txt', 'w') as f:\n",
    "        for vocab in vocabulary:\n",
    "            f.writelines(vocab)\n",
    "            f.writelines('\\n')\n",
    "    print('Vocabulary size:', len(vocabulary))"
   ]
  },
  {
   "cell_type": "code",
   "execution_count": null,
   "id": "a7f625cb",
   "metadata": {},
   "outputs": [],
   "source": []
  }
 ],
 "metadata": {
  "kernelspec": {
   "display_name": "Python 3 (ipykernel)",
   "language": "python",
   "name": "python3"
  },
  "language_info": {
   "codemirror_mode": {
    "name": "ipython",
    "version": 3
   },
   "file_extension": ".py",
   "mimetype": "text/x-python",
   "name": "python",
   "nbconvert_exporter": "python",
   "pygments_lexer": "ipython3",
   "version": "3.9.7"
  }
 },
 "nbformat": 4,
 "nbformat_minor": 5
}
